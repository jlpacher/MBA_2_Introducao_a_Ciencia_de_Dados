{
 "cells": [
  {
   "cell_type": "markdown",
   "metadata": {},
   "source": [
    "## ICD - AS7 - CLASSIFICAÇÃO: ÁRVORES DE DECISÃO E AVALIAÇÃO DE MODELOS"
   ]
  },
  {
   "cell_type": "markdown",
   "metadata": {},
   "source": [
    "##### Questão 1:\n",
    "Considere os dados da vertebralcolumn-2C e o código abaixo.   \n",
    "Use uma árvore de decisão com o critério Gini, isto é, use:    \n",
    "model = tree.DecisionTreeClassifier(criterion = 'gini', random_state = 101)   \n",
    "Determine o valor das medidas F1 e precision.    \n",
    "Arredonde para a primeira casa decimal.\n",
    "\n",
    "Escolha uma opção:\n",
    "\n",
    "a.F1 = 0.9, Precision = 0.8<br>\n",
    "b.F1 = 0.6, Precision = 0.6<br>\n",
    "c.F1 = 0.6, Precision = 0.8<br>\n",
    "<font color='red'>d.F1 = 0.7, Precision = 0.7</font> <br>\n",
    "e.F1 = 0.3, Precision = 0.4<br>"
   ]
  },
  {
   "cell_type": "code",
   "execution_count": 1,
   "metadata": {},
   "outputs": [],
   "source": [
    "import random\n",
    "import pandas as pd\n",
    "import numpy as np\n",
    "import matplotlib.pyplot as plt\n",
    "from sklearn.model_selection import train_test_split\n",
    "\n",
    "np.random.seed(42)\n",
    "\n",
    "data = pd.read_csv('data/vertebralcolumn-2C.csv', header=(0))\n",
    "\n",
    "data = data.to_numpy()\n",
    "nrow,ncol = data.shape\n",
    "y = data[:,-1]\n",
    "X = data[:,0:ncol-1]\n",
    "\n",
    "p = 0.2 # fracao de elementos no conjunto de teste\n",
    "x_train, x_test, y_train, y_test = train_test_split(X, y, test_size = p, random_state = 2)"
   ]
  },
  {
   "cell_type": "markdown",
   "metadata": {},
   "source": [
    "Vamos construir a árvore de decisão usando o critério Gini como medida de impureza dos nós:"
   ]
  },
  {
   "cell_type": "code",
   "execution_count": 2,
   "metadata": {},
   "outputs": [],
   "source": [
    "from sklearn import tree\n",
    "# Cria o modelo usando o criterio Gini\n",
    "model = tree.DecisionTreeClassifier(criterion = 'gini', random_state = 101)\n",
    "# Ajusta o modelo usando os dados de treinamento\n",
    "model.fit(x_train,y_train)\n",
    "# realizar a predição\n",
    "y_pred = model.predict(x_test) "
   ]
  },
  {
   "cell_type": "markdown",
   "metadata": {},
   "source": [
    "Fazendo as métricas para quantificar a qualidade do modelo"
   ]
  },
  {
   "cell_type": "code",
   "execution_count": 3,
   "metadata": {},
   "outputs": [
    {
     "name": "stdout",
     "output_type": "stream",
     "text": [
      "Accuracy: 0.7741935483870968\n",
      "F1 score: 0.7163398692810458\n",
      "Precision: 0.7255434782608696\n",
      "Recall: 0.7095959595959596\n",
      "\n",
      " clasification report:\n",
      "               precision    recall  f1-score   support\n",
      "\n",
      "    Abnormal       0.83      0.86      0.84        44\n",
      "      Normal       0.62      0.56      0.59        18\n",
      "\n",
      "    accuracy                           0.77        62\n",
      "   macro avg       0.73      0.71      0.72        62\n",
      "weighted avg       0.77      0.77      0.77        62\n",
      "\n"
     ]
    }
   ],
   "source": [
    "from sklearn.metrics import precision_score, recall_score, classification_report, accuracy_score, f1_score\n",
    "\n",
    "print('Accuracy:', accuracy_score(y_pred, y_test))\n",
    "print('F1 score:', f1_score(y_test, y_pred, average=\"macro\"))\n",
    "print('Precision:', precision_score(y_test, y_pred, average=\"macro\"))\n",
    "print('Recall:', recall_score(y_test, y_pred, average=\"macro\"))\n",
    "print('\\n clasification report:\\n', classification_report(y_test, y_pred))"
   ]
  },
  {
   "cell_type": "markdown",
   "metadata": {},
   "source": [
    "Resultado de F1 e Precision com uma casa decimal"
   ]
  },
  {
   "cell_type": "code",
   "execution_count": 4,
   "metadata": {},
   "outputs": [
    {
     "name": "stdout",
     "output_type": "stream",
     "text": [
      "F1 score: 0.7\n",
      "Precision: 0.7\n"
     ]
    }
   ],
   "source": [
    "print('F1 score:', round(f1_score(y_test, y_pred, average=\"macro\"),1))\n",
    "print('Precision:', round(precision_score(y_test, y_pred, average=\"macro\"),1))"
   ]
  },
  {
   "cell_type": "markdown",
   "metadata": {},
   "source": [
    "##### Questão 2:\n",
    "Considere os dados do exercício anterior.   \n",
    "Qual o valor das medidas F1 e Accuracy quando usamos o algoritmo random forest com 100 árvores?   \n",
    "Arredonde para a primeira casa decimal.   \n",
    "Use: model=RandomForestClassifier(n_estimators=100, random_state = 42)\n",
    "\n",
    "Escolha uma opção:\n",
    "\n",
    "a.F1 = 0.6, Accuracy = 0.8<br>\n",
    "b.F1 = 0.6, Accuracy = 0.6<br>\n",
    "c.F1 = 0.1, Accuracy = 0.4<br>\n",
    "d.F1 = 0.5, Accuracy = 0.8<br>\n",
    "<font color='red'>e.F1 = 0.9, Accuracy = 0.9</font> <br>"
   ]
  },
  {
   "cell_type": "markdown",
   "metadata": {},
   "source": [
    "Vamos construir o modelo RandomForestClassifier (Florestas Aleatórias) usando n_estimators = 100 árvores"
   ]
  },
  {
   "cell_type": "code",
   "execution_count": 6,
   "metadata": {},
   "outputs": [],
   "source": [
    "from sklearn.ensemble import RandomForestClassifier\n",
    "\n",
    "# cria o modelo e define os parâmetros\n",
    "model=RandomForestClassifier(n_estimators=100, random_state=42)\n",
    "# Ajusta o modelo usando os dados de treinamento\n",
    "model.fit(x_train,y_train)\n",
    "#Predict the response for test dataset\n",
    "y_pred = model.predict(x_test)"
   ]
  },
  {
   "cell_type": "markdown",
   "metadata": {},
   "source": [
    "Fazendo as métricas para quantificar a qualidade do modelo"
   ]
  },
  {
   "cell_type": "code",
   "execution_count": 7,
   "metadata": {},
   "outputs": [
    {
     "name": "stdout",
     "output_type": "stream",
     "text": [
      "Accuracy: 0.8870967741935484\n",
      "F1 score: 0.8554778554778555\n",
      "Precision: 0.8801418439716312\n",
      "Recall: 0.8383838383838385\n",
      "\n",
      " clasification report:\n",
      "               precision    recall  f1-score   support\n",
      "\n",
      "    Abnormal       0.89      0.95      0.92        44\n",
      "      Normal       0.87      0.72      0.79        18\n",
      "\n",
      "    accuracy                           0.89        62\n",
      "   macro avg       0.88      0.84      0.86        62\n",
      "weighted avg       0.89      0.89      0.88        62\n",
      "\n"
     ]
    }
   ],
   "source": [
    "from sklearn.metrics import precision_score, recall_score, classification_report, accuracy_score, f1_score\n",
    "\n",
    "print('Accuracy:', accuracy_score(y_pred, y_test))\n",
    "print('F1 score:', f1_score(y_test, y_pred, average=\"macro\"))\n",
    "print('Precision:', precision_score(y_test, y_pred, average=\"macro\"))\n",
    "print('Recall:', recall_score(y_test, y_pred, average=\"macro\"))\n",
    "print('\\n clasification report:\\n', classification_report(y_test, y_pred))"
   ]
  },
  {
   "cell_type": "markdown",
   "metadata": {},
   "source": [
    "Resultado de F1 e Accuracy com uma casa decimal"
   ]
  },
  {
   "cell_type": "code",
   "execution_count": 11,
   "metadata": {},
   "outputs": [
    {
     "name": "stdout",
     "output_type": "stream",
     "text": [
      "F1 score: 0.9\n",
      "Accuracy: 0.9\n"
     ]
    }
   ],
   "source": [
    "print('F1 score:', round(f1_score(y_test, y_pred, average=\"macro\"),1))\n",
    "print('Accuracy:', round(accuracy_score(y_pred, y_test),1))"
   ]
  },
  {
   "cell_type": "markdown",
   "metadata": {},
   "source": [
    "##### Questão 3:\n",
    "\n",
    "Com relação às árvores de decisão, indique a alternativa correta: <br>\n",
    "Escolha uma opção: <br>\n",
    "\n",
    "a.Só pode ser usada com dados numéricos. <br>\n",
    "b.É um método paramétrico. <br>\n",
    "<font color='red'>c.É um método de simples entendimento e interpretação: modelo “caixa branca”. </font> <br>\n",
    "d.Só pode ser usada com dados nominais. <br>\n",
    "e.Requer normalização dos dados. <br>"
   ]
  },
  {
   "cell_type": "markdown",
   "metadata": {},
   "source": [
    "##### Questão 4:\n",
    "\n",
    "Com relação à curva ROC:\n",
    "\n",
    "Escolha uma opção:\n",
    "\n",
    "a.É uma técnica de agrupamento de dados. <br>\n",
    "<font color='red'>b.Só pode ser usada em classificação binária. </font><br>\n",
    "c.É usada em modelos de regressão. <br>\n",
    "d.Pode ser usada em qualquer problema de classificação, independentemente do número de classes. <br>\n",
    "e.Sempre retorna o mesmo valor que a medida de precisão. <br>"
   ]
  }
 ],
 "metadata": {
  "kernelspec": {
   "display_name": "Python 3",
   "language": "python",
   "name": "python3"
  },
  "language_info": {
   "codemirror_mode": {
    "name": "ipython",
    "version": 3
   },
   "file_extension": ".py",
   "mimetype": "text/x-python",
   "name": "python",
   "nbconvert_exporter": "python",
   "pygments_lexer": "ipython3",
   "version": "3.8.10"
  }
 },
 "nbformat": 4,
 "nbformat_minor": 4
}
