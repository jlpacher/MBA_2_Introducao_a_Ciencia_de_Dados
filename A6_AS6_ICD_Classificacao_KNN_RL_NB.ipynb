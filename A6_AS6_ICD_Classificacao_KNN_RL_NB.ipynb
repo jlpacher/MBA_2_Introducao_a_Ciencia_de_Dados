{
 "cells": [
  {
   "cell_type": "markdown",
   "metadata": {},
   "source": [
    "# Avaliação Semanal 6: <br>Classificação - Knn, Regressão Logistica, Naive Bayes."
   ]
  },
  {
   "cell_type": "markdown",
   "metadata": {},
   "source": [
    "### Questão 1:\n",
    "\n",
    "Com relação ao algoritmo k-vizinhos, assinale a alternativa correta:\n",
    "\n",
    "Escolha uma opção:\n",
    "\n",
    "a.No método k-vizinhos, nunca ocorre overfitting.<br>\n",
    "<font color='red'>b.O algoritmo não “aprende” um modelo, apenas memoriza objetos de treinamento.</font> <br>\n",
    "c.É um classificador linear.<br>\n",
    "d.O número de vizinhos k é um parâmetro do modelo.<br>\n",
    "e.O número de vizinhos k não influencia na classificação.<br>"
   ]
  },
  {
   "cell_type": "markdown",
   "metadata": {},
   "source": [
    "### Questão 2:\n",
    "\n",
    "Com relação à regressão logística:\n",
    "\n",
    "Escolha uma opção:\n",
    "\n",
    "a.Nunca ocorre overfitting.<br>\n",
    "<font color='red'>b.A superfície de separação são hiperplanos (lineares).</font><br>\n",
    "c.É um classificador não-linear.<br>\n",
    "d.O parâmetro beta do modelo não influencia na classificação.<br>\n",
    "e.Só é possível usá-lo para o caso de duas classes.<br>"
   ]
  },
  {
   "cell_type": "markdown",
   "metadata": {},
   "source": [
    "### Questão 3:\n",
    "\n",
    "Com relação ao algoritmo Naive Bayes:\n",
    "\n",
    "Escolha uma opção:\n",
    "\n",
    "<font color='red'>a.Assume que as variáveis que descreve os atributos são independentes.</font><br>\n",
    "b.Só pode ser usado para dados numéricos.<br>\n",
    "c.Não é robusto a ruídos e atributos irrelevantes.<br>\n",
    "d.Todas as probabilidades exigidas não podem ser calculadas dos dados de treinamento em uma passagem.<br>\n",
    "e.Assume que os atributos são correlacionados.<br>"
   ]
  },
  {
   "cell_type": "markdown",
   "metadata": {},
   "source": [
    "### Questão 4:\n",
    "Considere a base de dados 'vertebralcolumn-2C'.    \n",
    "Calcule a acurácia na classificação usando Naive Bayes.    \n",
    "Considere 20% dos dados no conjunto de teste e o método hold-out.    \n",
    "Considere o código abaixo.    \n",
    "Arredonde para uma casa decimal.\n",
    "\n",
    "Escolha uma opção:\n",
    "\n",
    "<font color='red'>a.0.8</font><br>\n",
    "b.0.1<br>\n",
    "c.0.2<br>\n",
    "d.0.5<br>\n",
    "e.1.0<br>"
   ]
  },
  {
   "cell_type": "code",
   "execution_count": 42,
   "metadata": {},
   "outputs": [],
   "source": [
    "import pandas as pd\n",
    "import numpy as np\n",
    "import matplotlib.pyplot as plt\n",
    "from sklearn.preprocessing import StandardScaler\n",
    "from sklearn.linear_model import LogisticRegression\n",
    "from sklearn import metrics\n",
    "\n",
    "np.random.seed(42) # define the seed (important to reproduce the results)\n",
    "\n",
    "data = pd.read_csv('data/vertebralcolumn-2C.csv', header=(0))\n",
    "data = data.dropna(axis='rows') #remove NaN\n",
    "\n",
    "data = data.to_numpy()\n",
    "nrow,ncol = data.shape\n",
    "y = data[:,-1]\n",
    "X = data[:,0:ncol-1]\n",
    "\n",
    "scaler = StandardScaler().fit(X)\n",
    "X = scaler.transform(X)\n",
    "\n",
    "from sklearn.model_selection import train_test_split\n",
    "p = 0.2 # fraction of elements in the test set\n",
    "x_train, x_test, y_train, y_test = train_test_split(X, y, test_size = p, random_state = 42)"
   ]
  },
  {
   "cell_type": "code",
   "execution_count": 54,
   "metadata": {},
   "outputs": [
    {
     "data": {
      "image/png": "[encoded data removed]",
      "text/plain": [
       "<Figure size 432x288 with 1 Axes>"
      ]
     },
     "metadata": {
      "needs_background": "light"
     },
     "output_type": "display_data"
    },
    {
     "name": "stdout",
     "output_type": "stream",
     "text": [
      "Melhor nkf: 3\n",
      "Accuracy: 0.7861690665099422\n"
     ]
    }
   ],
   "source": [
    "from sklearn.model_selection import cross_validate\n",
    "from sklearn.naive_bayes import GaussianNB\n",
    "\n",
    "# Usando o método hold-out\n",
    "vnkf = [] # armazena os valores de nkf\n",
    "vscore = []\n",
    "for nkf in range(2, 20):\n",
    "    model = GaussianNB()\n",
    "    # realiza a validação cruzada\n",
    "    cv = cross_validate(model, x_train, y_train, cv=nkf)\n",
    "    #print('k:', k, 'accurace:', cv['test_score'].mean())\n",
    "    vscore.append(cv['test_score'].mean()) \n",
    "    vnkf.append(nkf)\n",
    "    \n",
    "plt.plot(vnkf, vscore, '-bo')\n",
    "plt.xlabel('nkf', fontsize = 15)\n",
    "plt.ylabel('Accuracy', fontsize = 15)\n",
    "plt.show(True)\n",
    "best_nkf = np.argmax(vscore)+2\n",
    "print('Melhor nkf:', best_nkf)\n",
    "print('Accuracy:', np.max(vscore))"
   ]
  },
  {
   "cell_type": "code",
   "execution_count": 44,
   "metadata": {},
   "outputs": [
    {
     "name": "stdout",
     "output_type": "stream",
     "text": [
      "Accuracy:  0.8\n"
     ]
    }
   ],
   "source": [
    "from sklearn.naive_bayes import GaussianNB\n",
    "from sklearn import metrics\n",
    "\n",
    "model = GaussianNB()\n",
    "model.fit(x_train, y_train)\n",
    "\n",
    "y_pred = model.predict(x_test)\n",
    "print('Accuracy: ', round(model.score(x_test, y_test),1))"
   ]
  },
  {
   "cell_type": "code",
   "execution_count": 45,
   "metadata": {},
   "outputs": [
    {
     "data": {
      "text/plain": [
       "0.8"
      ]
     },
     "execution_count": 45,
     "metadata": {},
     "output_type": "execute_result"
    }
   ],
   "source": [
    "from sklearn.metrics import accuracy_score\n",
    "round(accuracy_score(y_test, y_pred), 1)\n"
   ]
  },
  {
   "cell_type": "code",
   "execution_count": 46,
   "metadata": {},
   "outputs": [
    {
     "name": "stdout",
     "output_type": "stream",
     "text": [
      "              precision    recall  f1-score   support\n",
      "\n",
      "    Abnormal       0.92      0.77      0.84        44\n",
      "      Normal       0.60      0.83      0.70        18\n",
      "\n",
      "    accuracy                           0.79        62\n",
      "   macro avg       0.76      0.80      0.77        62\n",
      "weighted avg       0.83      0.79      0.80        62\n",
      "\n"
     ]
    }
   ],
   "source": [
    "from sklearn.metrics import classification_report\n",
    "print(classification_report(y_test, y_pred))"
   ]
  },
  {
   "cell_type": "markdown",
   "metadata": {},
   "source": [
    "### Questão 5:\n",
    "Considere a base dados artificial gerada pelo código abaixo.    \n",
    "Considerando o algoritmo regressão logística, qual é a taxa de acerto na classificação?\n",
    "\n",
    "Escolha uma opção:\n",
    "\n",
    "a.0,2<br>\n",
    "b.0,1<br>\n",
    "<font color='red'>c.1,0</font> <br>\n",
    "d.0,5<br>\n",
    "e.0,6<br>"
   ]
  },
  {
   "cell_type": "code",
   "execution_count": 27,
   "metadata": {},
   "outputs": [
    {
     "data": {
      "image/png": "[encoded data removed]",
      "text/plain": [
       "<Figure size 432x288 with 1 Axes>"
      ]
     },
     "metadata": {
      "needs_background": "light"
     },
     "output_type": "display_data"
    }
   ],
   "source": [
    "import sklearn.datasets as skdata\n",
    "from matplotlib import pyplot\n",
    "from pandas import DataFrame\n",
    "from sklearn.linear_model import LogisticRegression\n",
    "import matplotlib.pyplot as plt\n",
    "\n",
    "# Gera os dados em duas dimensões\n",
    "n_samples = 100 # número de observações\n",
    "\n",
    "# centro dos grupos\n",
    "centers = [(-4, 0), (0, 0), (3, 3)]\n",
    "X, y = skdata.make_blobs(n_samples=100, n_features=2, cluster_std=1.0, centers=centers, shuffle=False, random_state=42)\n",
    "\n",
    "plt.figure(figsize=(6,4))\n",
    "plt.scatter(X[:,0], X[:,1], c=y, cmap='viridis', s=50, alpha=0.7)\n",
    "plt.show(True)\n",
    "\n",
    "from sklearn.model_selection import train_test_split\n",
    "p = 0.2 # fraction of elements in the test set\n",
    "x_train, x_test, y_train, y_test = train_test_split(X, y, test_size = p)\n"
   ]
  },
  {
   "cell_type": "code",
   "execution_count": 28,
   "metadata": {},
   "outputs": [
    {
     "name": "stdout",
     "output_type": "stream",
     "text": [
      "Acurácia:  1.0\n"
     ]
    }
   ],
   "source": [
    "from sklearn.linear_model import LogisticRegression\n",
    "from sklearn import metrics\n",
    "\n",
    "model = LogisticRegression(solver = 'lbfgs', max_iter = 1000)\n",
    "model.fit(x_train, y_train)\n",
    "\n",
    "y_pred = model.predict(x_test)\n",
    "print('Acurácia: ', round(model.score(x_test, y_test),6))"
   ]
  },
  {
   "cell_type": "code",
   "execution_count": 29,
   "metadata": {},
   "outputs": [
    {
     "name": "stdout",
     "output_type": "stream",
     "text": [
      "Accuracy:  1.0\n"
     ]
    }
   ],
   "source": [
    "from sklearn.naive_bayes import GaussianNB\n",
    "from sklearn import metrics\n",
    "\n",
    "model = GaussianNB()\n",
    "model.fit(x_train, y_train)\n",
    "\n",
    "y_pred = model.predict(x_test)\n",
    "print('Accuracy: ', model.score(x_test, y_test))"
   ]
  },
  {
   "cell_type": "code",
   "execution_count": 34,
   "metadata": {},
   "outputs": [
    {
     "name": "stdout",
     "output_type": "stream",
     "text": [
      "Accuracy: 1.0\n"
     ]
    }
   ],
   "source": [
    "from sklearn.neighbors import KNeighborsClassifier\n",
    "from sklearn.metrics import accuracy_score\n",
    "\n",
    "model = KNeighborsClassifier(n_neighbors=4, metric = 'euclidean')\n",
    "model.fit(x_train, y_train)\n",
    "y_pred = model.predict(x_test)\n",
    "print('Accuracy:', accuracy_score(y_pred, y_test))"
   ]
  },
  {
   "cell_type": "code",
   "execution_count": null,
   "metadata": {},
   "outputs": [],
   "source": []
  }
 ],
 "metadata": {
  "kernelspec": {
   "display_name": "Python 3",
   "language": "python",
   "name": "python3"
  },
  "language_info": {
   "codemirror_mode": {
    "name": "ipython",
    "version": 3
   },
   "file_extension": ".py",
   "mimetype": "text/x-python",
   "name": "python",
   "nbconvert_exporter": "python",
   "pygments_lexer": "ipython3",
   "version": "3.8.10"
  }
 },
 "nbformat": 4,
 "nbformat_minor": 4
}
