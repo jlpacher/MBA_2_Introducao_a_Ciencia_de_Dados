{
 "cells": [
  {
   "cell_type": "markdown",
   "metadata": {},
   "source": [
    "# AS5 - ICD - Modelos de Regressão"
   ]
  },
  {
   "cell_type": "markdown",
   "metadata": {},
   "source": [
    "### Questão 1:\n",
    "\n",
    "Com relação ao modelo de regressão, assinale a alternativa correta.\n",
    "\n",
    "Escolha uma opção:\n",
    "\n",
    "<font color='red'>a.O resíduo é definido pela diferença entre o valor real (do conjunto de treinamento) e o valor predito.</font> <br>\n",
    "b.Não é possível usar o teste de hipóteses no modelo de regressão.<br>\n",
    "c.A medida R2 é uma medida de associação não-linear.<br>\n",
    "d.Valores de R2 próximo de 0 indicam que uma grande proporção da variabilidade dos dados são explicadas pelo modelo de regressão.<br>\n",
    "e.A acurácia é uma medida que pode ser usada no modelo de regressão.<br>"
   ]
  },
  {
   "cell_type": "markdown",
   "metadata": {},
   "source": [
    "### Questão 2:\n",
    "\n",
    "Assinale a alternativa correta.\n",
    "\n",
    "Escolha uma opção:\n",
    "\n",
    "<font color='red'>a.Um modelo de regressão linear é linear nos parâmetros e não nas variáveis, que podem ser não lineares (ex. X2, sen(X), ln(X)).</font> <br>\n",
    "b.Ridge regression pode ser usada para selecionar atributos.<br>\n",
    "c.Lasso mantém os valores dos parâmetros pequenos e diferentes de zero.<br>\n",
    "d.Em um modelo de regressão, nunca ocorre overfitting.<br>\n",
    "e.A regularização é feita ajustando o coeficiente R2.<br>"
   ]
  },
  {
   "cell_type": "markdown",
   "metadata": {},
   "source": [
    "### Questão 3:   \n",
    "Considere o conjunto de dados:   \n",
    "X = [0, 1, 2, 3, 4, 5, 6, 7, 8, 9, 10, 11, 12, 13, 14, 15],    \n",
    "Y = [0, 3,4,5,10,8,12,15,15,19,22,21,26,28,27,29].    \n",
    "Calcule os coeficiente 𝑏0 e 𝑏1 na regressão linear, como vimos na aula.    \n",
    "Ou seja, no modelo: 𝑌≈𝑏0+𝑏1𝑋 ajustado a esses dados.    \n",
    "(Veja o exemplo no notebook. Escolha o valor mais próximo das alternativas)."
   ]
  },
  {
   "cell_type": "markdown",
   "metadata": {},
   "source": [
    "Escolha uma opção:\n",
    "\n",
    "a.b0: 2.5, b1: 2.5<br>\n",
    "b.b0: 2.0, b1: 2.0<br>\n",
    "c.b0: 0.50, b1: 10.0<br>\n",
    "d.b0: 1.0, b1: 0.1<br>\n",
    "<font color='red'>e.b0: 0.16, b1: 2.01</font> <br>"
   ]
  },
  {
   "cell_type": "code",
   "execution_count": 1,
   "metadata": {},
   "outputs": [
    {
     "data": {
      "image/png": "[encoded data removed]",
      "text/plain": [
       "<Figure size 432x288 with 1 Axes>"
      ]
     },
     "metadata": {
      "needs_background": "light"
     },
     "output_type": "display_data"
    }
   ],
   "source": [
    "import matplotlib.pyplot as plt\n",
    "import numpy as np\n",
    "\n",
    "# define os dados\n",
    "x = np.array([0, 1, 2, 3, 4, 5, 6, 7, 8, 9, 10, 11, 12, 13, 14, 15]) \n",
    "y = np.array([0, 3,4,5,10,8,12,15,15,19,22,21,26,28,27,29]) \n",
    "plt.plot(x, y, 'bo')\n",
    "plt.xlabel(\"x\", fontsize = 15)\n",
    "plt.ylabel(\"y\", fontsize = 15)\n",
    "plt.show(True) "
   ]
  },
  {
   "cell_type": "code",
   "execution_count": 2,
   "metadata": {},
   "outputs": [],
   "source": [
    "from statistics import variance \n",
    "import math \n",
    "\n",
    "# Função que calcula os coeficientes através do método dos mínimos quadrados\n",
    "def linear_regression(x, y): \n",
    "    # número de observações/pontos\n",
    "    n = np.size(x) \n",
    "  \n",
    "    # médias de x e y\n",
    "    m_x, m_y = np.mean(x), np.mean(y) \n",
    "    SS_xy = 0\n",
    "    SS_xx = 0\n",
    "    for i in range(0,len(x)):\n",
    "        SS_xy = SS_xy + (x[i]-m_x)*(y[i]-m_y)\n",
    "        SS_xx = SS_xx + (x[i]-m_x)**2\n",
    "  \n",
    "    # calcula os coeficientes de regressão\n",
    "    b_1 = SS_xy / SS_xx \n",
    "    b_0 = m_y - b_1*m_x \n",
    "  \n",
    "    return (b_0, b_1) \n",
    "\n",
    "# função para mostrar os dados e o ajuste linear\n",
    "def plot_regression_line(x, y, b): \n",
    "    # mostra os dados\n",
    "    plt.scatter(x, y, color = \"b\", marker = \"o\", s = 50) \n",
    "  \n",
    "    # prediz os valores\n",
    "    y_pred = b[0] + b[1]*x \n",
    "  \n",
    "    # mostra a reta de regressão\n",
    "    plt.plot(x, y_pred, color = \"r\") \n",
    "  \n",
    "    plt.xlabel('x', fontsize = 15) \n",
    "    plt.ylabel('y', fontsize = 15) \n",
    "    plt.show(True)"
   ]
  },
  {
   "cell_type": "code",
   "execution_count": 3,
   "metadata": {},
   "outputs": [
    {
     "name": "stdout",
     "output_type": "stream",
     "text": [
      "Estimated coefficients:\n",
      "b_0 = 0.16176470588235325  \n",
      "b_1 = 2.011764705882353\n"
     ]
    },
    {
     "data": {
      "image/png": "[encoded data removed]",
      "text/plain": [
       "<Figure size 432x288 with 1 Axes>"
      ]
     },
     "metadata": {
      "needs_background": "light"
     },
     "output_type": "display_data"
    }
   ],
   "source": [
    "# Aplicando ao conjunto de dados\n",
    "import numpy as np\n",
    "\n",
    "# estima os coeficientes\n",
    "b = linear_regression(x, y) \n",
    "print(\"Estimated coefficients:\\nb_0 = {}  \\nb_1 = {}\".format(b[0], b[1])) \n",
    "  \n",
    "# mostra o ajuste linear\n",
    "plot_regression_line(x, y, b) "
   ]
  },
  {
   "cell_type": "markdown",
   "metadata": {},
   "source": [
    "### Questão 4:   \n",
    "Ainda considerando os dados anteriores, qual o valor de R2?\n",
    "\n",
    "Escolha uma opção:\n",
    "\n",
    "a.0,89<br>\n",
    "<font color='red'>b.0,98</font> <br>\n",
    "c.0,65<br>\n",
    "d.0,45<br>\n",
    "e.0,71<br>"
   ]
  },
  {
   "cell_type": "code",
   "execution_count": 4,
   "metadata": {},
   "outputs": [
    {
     "name": "stdout",
     "output_type": "stream",
     "text": [
      "R2: 0.9807890654479896\n"
     ]
    }
   ],
   "source": [
    "# Função que calcula o coeficiente R2, que mede a proporção da variabilidade em Y que pode ser explicada a partir de X.\n",
    "def R2(x,y,b):\n",
    "    n = len(y)\n",
    "    c1 = 0\n",
    "    c2 = 0\n",
    "    ym = np.mean(y)\n",
    "    for i in range(0,n):\n",
    "        y_pred = b[0]+ x[i]*b[1] # valor predito\n",
    "        c1 = c1 + (y[i]-y_pred)**2\n",
    "        c2 = c2 + (y[i]-ym)**2\n",
    "    R2 = 1 - c1/c2\n",
    "    return R2\n",
    "\n",
    "print('R2:', R2(x,y,b))"
   ]
  },
  {
   "cell_type": "code",
   "execution_count": null,
   "metadata": {},
   "outputs": [],
   "source": []
  }
 ],
 "metadata": {
  "kernelspec": {
   "display_name": "Python 3",
   "language": "python",
   "name": "python3"
  },
  "language_info": {
   "codemirror_mode": {
    "name": "ipython",
    "version": 3
   },
   "file_extension": ".py",
   "mimetype": "text/x-python",
   "name": "python",
   "nbconvert_exporter": "python",
   "pygments_lexer": "ipython3",
   "version": "3.8.10"
  }
 },
 "nbformat": 4,
 "nbformat_minor": 4
}
