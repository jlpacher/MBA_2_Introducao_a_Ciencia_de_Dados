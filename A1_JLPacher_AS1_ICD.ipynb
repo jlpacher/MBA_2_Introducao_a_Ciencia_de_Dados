{
 "cells": [
  {
   "cell_type": "markdown",
   "metadata": {},
   "source": [
    "## Avaliação Semanal 1 - Introdução à Ciência de Dados"
   ]
  },
  {
   "cell_type": "markdown",
   "metadata": {},
   "source": [
    "### Questão 1:   \n",
    "Determine a moda do conjunto:   \n",
    "Z = [0,0,2,3,1,2,4,5,6,8,0,0,7,0,1,2,1,1, 5,3,1,0,7,3,2,3,4,5,6,7,8,9,1,1,2,2,3]\n",
    "\n",
    "Escolha uma opção:\n",
    "a. 2\n",
    "b. 1\n",
    "c. 3\n",
    "d. 7\n",
    "e. 5"
   ]
  },
  {
   "cell_type": "code",
   "execution_count": 1,
   "metadata": {},
   "outputs": [
    {
     "name": "stdout",
     "output_type": "stream",
     "text": [
      "A moda de Z: 1\n"
     ]
    }
   ],
   "source": [
    "Z = [0,0,2,3,1,2,4,5,6,8,0,0,7,0,1,2,1,1, 5,3,1,0,7,3,2,3,4,5,6,7,8,9,1,1,2,2,3]\n",
    "\n",
    "from statistics import mode\n",
    "m = mode(Z)\n",
    "print('A moda de Z:', m)"
   ]
  },
  {
   "cell_type": "code",
   "execution_count": 2,
   "metadata": {},
   "outputs": [
    {
     "name": "stdout",
     "output_type": "stream",
     "text": [
      "Z: [0, 0, 2, 3, 1, 2, 4, 5, 6, 8, 0, 0, 7, 0, 1, 2, 1, 1, 5, 3, 1, 0, 7, 3, 2, 3, 4, 5, 6, 7, 8, 9, 1, 1, 2, 2, 3]\n",
      "Valores possíveis: [0 1 2 3 4 5 6 7 8 9]\n",
      "Frequencia dos valores: [6. 7. 6. 5. 2. 3. 2. 3. 2. 1.]\n"
     ]
    },
    {
     "data": {
      "image/png": "[encoded data removed]",
      "text/plain": [
       "<Figure size 432x288 with 1 Axes>"
      ]
     },
     "metadata": {
      "needs_background": "light"
     },
     "output_type": "display_data"
    }
   ],
   "source": [
    "# Confirmação\n",
    "import matplotlib.pyplot as plt #biblioteca gráfica para mostrar os gráficos\n",
    "import numpy as np\n",
    "\n",
    "# Usamos a funções sort e unique do Numpy para encontrar os valores possíveis em ordem crescente.\n",
    "# esses valores serão mostrados na abscissa do gráfico.\n",
    "values = np.sort(np.unique(Z)) \n",
    "# vamos calcular a frequência de cada valor presente na lista\n",
    "freq = np.zeros(len(values)) # armazena as frequencias\n",
    "ind = 0 # indice do vetor de frequências\n",
    "for i in values: # para os valores diferentes\n",
    "    counter = 0 # conta as ocorrências\n",
    "    for j in range(0,len(Z)):\n",
    "        if(Z[j] == i):\n",
    "            counter = counter + 1\n",
    "    freq[ind] = counter\n",
    "    ind = ind + 1\n",
    "\n",
    "print('Z:',Z)\n",
    "print('Valores possíveis:', values)\n",
    "print('Frequencia dos valores:', freq)\n",
    "\n",
    "y_pos = np.arange(len(values))\n",
    "plt.xticks(y_pos, values)\n",
    "plt.bar(y_pos, freq)\n",
    "plt.xlabel(\"Valores\",fontsize = 20) \n",
    "plt.ylabel(\"Frequência\", fontsize = 20) \n",
    "\n",
    "\n",
    "plt.show()"
   ]
  },
  {
   "cell_type": "markdown",
   "metadata": {},
   "source": [
    "### Questão 2:   \n",
    "Determine a média e mediana do conjunto de dados   \n",
    "Z = [0,0,2,3,1,2,4,5,6,8,0,0,7,0,1,2,1,1, 5,3,1,0,7,3,2,3,4,5,6,7,8,9,1,1,2,2,3]\n",
    "\n",
    "Escolha uma opção:\n",
    "a. 3.9 e 3.0\n",
    "b. 3.1 e 2.0\n",
    "c. 4.0 e 2.0\n",
    "d. 4.5 e 3.5\n",
    "e. 3.9 e 4.5"
   ]
  },
  {
   "cell_type": "code",
   "execution_count": 3,
   "metadata": {},
   "outputs": [
    {
     "name": "stdout",
     "output_type": "stream",
     "text": [
      "A média é:  3.1\n",
      "A mediana é:  2.0\n"
     ]
    }
   ],
   "source": [
    "import numpy as np\n",
    "Z = [0,0,2,3,1,2,4,5,6,8,0,0,7,0,1,2,1,1, 5,3,1,0,7,3,2,3,4,5,6,7,8,9,1,1,2,2,3]\n",
    "\n",
    "media = np.mean(Z)\n",
    "media = media.round(1)\n",
    "print('A média é: ', media)\n",
    "\n",
    "mediana = np.median(Z)\n",
    "mediana = mediana.round(1)\n",
    "print('A mediana é: ', mediana)"
   ]
  },
  {
   "cell_type": "markdown",
   "metadata": {},
   "source": [
    "### Questão 3:   \n",
    "Calcule a variância, desvio padrão e distância interquantil do conjunto de dados:   \n",
    "Z = [0,0,2,3,1,2,4,5,6,8,7,5,3,1,0,7,3,2,3,4,5,6,7,8,9,1,1,2,2,3]\n",
    "\n",
    "Escolha uma opção:\n",
    "a. 6.9, 2.6 e 3.75\n",
    "b. 8,0, 2.7 e 3.0\n",
    "c. 7.4, 2.7 e 2.0\n",
    "d. 7.4, 5.0 e 4.0\n",
    "e. 7.4, 4.0 e 3.0"
   ]
  },
  {
   "cell_type": "code",
   "execution_count": 4,
   "metadata": {},
   "outputs": [
    {
     "name": "stdout",
     "output_type": "stream",
     "text": [
      "Z:  [0, 0, 2, 3, 1, 2, 4, 5, 6, 8, 7, 5, 3, 1, 0, 7, 3, 2, 3, 4, 5, 6, 7, 8, 9, 1, 1, 2, 2, 3]\n",
      "A média é:  3.6666666666666665\n",
      "A amplitude é:  9\n",
      "A variância é:  6.919540229885057\n",
      "Confirmação da variância com Numpy:  6.919540229885058\n",
      "O desvio-padrão é:  2.630501896955229\n",
      "Confirmação do desvio-padrão com Numpy:  2.630501896955229\n",
      "A distância inter-quartil IQR é:  3.75\n"
     ]
    }
   ],
   "source": [
    "from scipy.stats import iqr\n",
    "\n",
    "#Definindo função variância para uma amostra\n",
    "def variancia(Z):\n",
    "    media = np.mean(Z)\n",
    "    N = len(Z)\n",
    "    s_2 = 0\n",
    "    for i in np.arange(0, len(Z)):\n",
    "        s_2 = s_2 + (media - (Z[i]))**2\n",
    "    s_2 = s_2/(N-1)\n",
    "    return s_2\n",
    "\n",
    "Z = [0,0,2,3,1,2,4,5,6,8,7,5,3,1,0,7,3,2,3,4,5,6,7,8,9,1,1,2,2,3]\n",
    "\n",
    "media = np.mean(Z)\n",
    "dp = np.std(Z,ddof=1)      # ddof: graus de liberdade; ddof=1 para amostra; ddof=0 para população\n",
    "var = np.var(Z, ddof=1)    # ddof: graus de liberdade; ddof=1 para amostra; ddof=0 para população\n",
    "print('Z: ', Z)\n",
    "print('A média é: ', media)\n",
    "print('A amplitude é: ', np.max(Z)-np.min(Z))\n",
    "print('A variância é: ', variancia(Z))\n",
    "print('Confirmação da variância com Numpy: ', var)\n",
    "print('O desvio-padrão é: ', np.sqrt(variancia(Z)))\n",
    "print('Confirmação do desvio-padrão com Numpy: ', dp)\n",
    "print('A distância inter-quartil IQR é: ', iqr(Z))\n"
   ]
  },
  {
   "cell_type": "markdown",
   "metadata": {},
   "source": [
    "### Questão 4:   \n",
    "Para a função tangente no intervalo [-1.5,1.5], calcule os coeficientes de Pearson e Spearman.   \n",
    "\n",
    "Escolha uma opção:   \n",
    "a. 0.8 e 0.7   \n",
    "b. 1 e 1   \n",
    "c. 0.8 e 0.99   \n",
    "d. 0.8 e 0.6   \n",
    "e. 0.99 e 0.5"
   ]
  },
  {
   "cell_type": "code",
   "execution_count": 13,
   "metadata": {},
   "outputs": [
    {
     "data": {
      "image/png": "[encoded data removed]",
      "text/plain": [
       "<Figure size 432x288 with 1 Axes>"
      ]
     },
     "metadata": {
      "needs_background": "light"
     },
     "output_type": "display_data"
    }
   ],
   "source": [
    "import numpy as np\n",
    "import matplotlib.pyplot as plt\n",
    "from scipy.stats import pearsonr, spearmanr\n",
    "\n",
    "N = 100\n",
    "x = np.linspace(-1.5, 1.5, N) \n",
    "z = np.tan(x)\n",
    "\n",
    "plt.plot(x, z) \n",
    "plt.xlabel(\"x\",fontsize = 20) \n",
    "plt.ylabel(\"Tan(X)\", fontsize = 20) \n",
    "corr, p_value = pearsonr(x, z)\n",
    "corrs, p_values = spearmanr(x, z)\n",
    "corr = int(corr*100)/100\n",
    "corrs = int(corrs*100)/100\n",
    "string = 'Pearson corr. = '+ str(corr)\n",
    "plt.text(2,3, string, fontsize=15)\n",
    "string = 'Spearman corr. = '+ str(corrs)\n",
    "plt.text(2,1, string, fontsize=15)\n",
    "plt.title('Função Tangente', fontsize=20)\n",
    "plt.show()"
   ]
  },
  {
   "cell_type": "code",
   "execution_count": 14,
   "metadata": {},
   "outputs": [
    {
     "data": {
      "text/plain": [
       "<matplotlib.collections.PathCollection at 0x17dd1c4c1f0>"
      ]
     },
     "execution_count": 14,
     "metadata": {},
     "output_type": "execute_result"
    },
    {
     "data": {
      "image/png": "[encoded data removed]",
      "text/plain": [
       "<Figure size 432x288 with 1 Axes>"
      ]
     },
     "metadata": {
      "needs_background": "light"
     },
     "output_type": "display_data"
    }
   ],
   "source": [
    "# Plotando com scatter\n",
    "plt.scatter(x,z)"
   ]
  },
  {
   "cell_type": "code",
   "execution_count": 19,
   "metadata": {},
   "outputs": [
    {
     "name": "stdout",
     "output_type": "stream",
     "text": [
      "(0.8087861600847008, 2.5208035773393567e-24)\n",
      "SpearmanrResult(correlation=0.9999999999999999, pvalue=0.0)\n"
     ]
    }
   ],
   "source": [
    "# Outra forma de calcular\n",
    "from scipy.stats import pearsonr, spearmanr\n",
    "print(pearsonr(x,z))\n",
    "print(spearmanr(x,z))"
   ]
  },
  {
   "cell_type": "markdown",
   "metadata": {},
   "source": [
    "### Questão 5:   \n",
    "Calcule a distância de Kullback-Leibler entre as variáveis X e Y, com distribuição:   \n",
    "P = [0.15,0.25,0.2] e Q = [0.3, 0.6, 0.1]\n",
    "\n",
    "Escolha uma opção:   \n",
    "a. KL(P,Q)= 0.50 e KL(Q,P)= 0.72   \n",
    "b. KL(P,Q)= 0.20 e KL(Q,P)= 0.15   \n",
    "c. KL(P,Q)= 0.0 e KL(Q,P)= 0.88   \n",
    "d. KL(P,Q)= 0.70 e KL(Q,P)= 0.91   \n",
    "e. KL(P,Q)= 0.30 e KL(Q,P)= 0.20"
   ]
  },
  {
   "cell_type": "code",
   "execution_count": 20,
   "metadata": {},
   "outputs": [
    {
     "name": "stdout",
     "output_type": "stream",
     "text": [
      "KL(P,Q) =  0.20380924824852753\n",
      "KL(Q,P) =  0.15308505475833864\n"
     ]
    }
   ],
   "source": [
    "# Entropia relativa (divergência de Kulback-Leibler) pode ser usada para comparar distribuições.\n",
    "from scipy.stats import entropy\n",
    "P = [0.15,0.25,0.2]\n",
    "Q = [0.3, 0.6, 0.1]\n",
    "\n",
    "print('KL(P,Q) = ', entropy(P,Q, base = np.exp(1)))\n",
    "print('KL(Q,P) = ', entropy(Q,P, base = np.exp(1)))"
   ]
  },
  {
   "cell_type": "code",
   "execution_count": 21,
   "metadata": {},
   "outputs": [
    {
     "name": "stdout",
     "output_type": "stream",
     "text": [
      "KL(P,P) =  0.0\n",
      "KL(Q,Q) =  0.0\n"
     ]
    }
   ],
   "source": [
    "# Confirmando que se as distribuiçõe forem iguais a divergência KL = 0\n",
    "print('KL(P,P) = ', entropy(P,P, base = np.exp(1)))\n",
    "print('KL(Q,Q) = ', entropy(Q,Q, base = np.exp(1)))"
   ]
  },
  {
   "cell_type": "code",
   "execution_count": null,
   "metadata": {},
   "outputs": [],
   "source": []
  }
 ],
 "metadata": {
  "kernelspec": {
   "display_name": "Python 3",
   "language": "python",
   "name": "python3"
  },
  "language_info": {
   "codemirror_mode": {
    "name": "ipython",
    "version": 3
   },
   "file_extension": ".py",
   "mimetype": "text/x-python",
   "name": "python",
   "nbconvert_exporter": "python",
   "pygments_lexer": "ipython3",
   "version": "3.8.10"
  }
 },
 "nbformat": 4,
 "nbformat_minor": 4
}
