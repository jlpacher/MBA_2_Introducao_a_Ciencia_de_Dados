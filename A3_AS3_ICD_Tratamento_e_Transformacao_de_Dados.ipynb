{
 "cells": [
  {
   "cell_type": "markdown",
   "id": "7d08a8f5",
   "metadata": {},
   "source": [
    "# AS3 - ICD - Tratamento e Transformação de Dados - Normalização, PCA"
   ]
  },
  {
   "cell_type": "markdown",
   "id": "1d49d3a7",
   "metadata": {},
   "source": [
    "Questão 1:\n",
    "\n",
    "São exemplos de problemas associados aos dados:\n",
    "\n",
    "Escolha uma opção: <br>\n",
    "a.Nenhuma das outras alternativas <br>\n",
    "b.Normalização, PCA, maldição da dimensionalidade <br>\n",
    "c.Overfitting, correlação, normalização <br>\n",
    "d.Maldição da dimensionalidade, overfitting, covariância <br>\n",
    "<font color='red'>e.Ruídos, amostragem (poucos dados), dados incompletos </font> <br>"
   ]
  },
  {
   "cell_type": "markdown",
   "id": "2f6b37be",
   "metadata": {},
   "source": [
    "Questão 2:\n",
    "\n",
    "Quando padronizamos os dados?\n",
    "\n",
    "Escolha uma opção: <br>\n",
    "a.quando os dados são correlacionados <br>\n",
    "b.nenhuma das outras opções <br>\n",
    "<font color='red'>c.quando os dados possuem escalas muito diferentes </font><br>\n",
    "d.quando os dados são independentes <br>\n",
    "e.quando os dados são nominais <br>"
   ]
  },
  {
   "cell_type": "markdown",
   "id": "62d3d903",
   "metadata": {},
   "source": [
    "Questão 3:\n",
    "\n",
    "Quais são exemplos de técnicas para tratamento dos dados:\n",
    "\n",
    "Escolha uma opção:\n",
    "\n",
    "a.Amostragem, captura dos dados, séries temporais <br>\n",
    "<font color='red'>b.Eliminação manual de atributos, redução da dimensionalidade, balanceamento dos dados, limpeza dos dados </font><br>\n",
    "c.Agrupamento de dados, recursão, correlação e overfitting <br>\n",
    "d.Recursão, maldição da dimensionalidade, correlação de Pearson <br>\n",
    "e.Eliminação manual de atributos, recursão, amostragem, tabulação <br>"
   ]
  },
  {
   "cell_type": "markdown",
   "id": "8468ec9b",
   "metadata": {},
   "source": [
    "Questão 4:\n",
    "\n",
    "Com relação à análise dos componentes principais (PCA), escolha a alternativa correta.\n",
    "\n",
    "Escolha uma opção:\n",
    "\n",
    "a.O segundo componente é paralelo ao primeiro eixo e apresenta a segunda menor variância dos dados <br>\n",
    "b.Na análise dos componentes principais, os novo conjunto de dados transformados apresenta média zero e variância igual a um <br>\n",
    "<font color='red'>c.A análise dos componentes principais é um método para transformar os dados e obter um novo conjunto de dados onde a primeira componente representa o eixo de maior variação dos dados </font><br>\n",
    "d.A correlação no conjunto de dados originais é sempre mantida após a transformação das variáveis <br>\n",
    "e.A principal componente é a que apresenta a menor variância <br>"
   ]
  },
  {
   "cell_type": "markdown",
   "id": "a32f2239",
   "metadata": {},
   "source": [
    "Questão 5:\n",
    "\n",
    "Quantas variáveis são necessárias para se explicar ao menos 90% da variância nos dados Vehicle?\n",
    "\n",
    "Escolha uma opção:\n",
    "\n",
    "<font color='red'>a.5 </font> <br>\n",
    "b.2 <br>\n",
    "c.10 <br>\n",
    "d.8 <br>\n",
    "e.1 <br>"
   ]
  },
  {
   "cell_type": "code",
   "execution_count": 1,
   "id": "bd69056f",
   "metadata": {},
   "outputs": [],
   "source": [
    "# leitura do arquivo csv\n",
    "import pandas as pd\n",
    "data = pd.read_csv('data/Vehicle.csv', header=(0))"
   ]
  },
  {
   "cell_type": "code",
   "execution_count": 2,
   "id": "0370f404",
   "metadata": {},
   "outputs": [],
   "source": [
    "import matplotlib.pyplot as plt\n",
    "import numpy as np\n",
    "\n",
    "from sklearn.preprocessing import StandardScaler # modulo para padronizar os dados\n",
    "from sklearn.preprocessing import MinMaxScaler # modulo para normalizar os dados\n",
    "from sklearn.decomposition import PCA # modulo para aplicar PCA nos dados"
   ]
  },
  {
   "cell_type": "code",
   "execution_count": 3,
   "id": "24c96fe0",
   "metadata": {},
   "outputs": [],
   "source": [
    "# Construindo as variáveis X (atributos) e y (classes)\n",
    "data = data.to_numpy() #valido apenas para a versao do Pandas maior do que 0.24.0\n",
    "nrow,ncol = data.shape\n",
    "y = data[:,-1]\n",
    "X = data[:,0:ncol-1]\n",
    "\n",
    "# Padronizando\n",
    "from sklearn.preprocessing import StandardScaler\n",
    "scaler = StandardScaler().fit(X)\n",
    "X = scaler.transform(X)\n",
    "\n"
   ]
  },
  {
   "cell_type": "code",
   "execution_count": 4,
   "id": "a2f14a8d",
   "metadata": {},
   "outputs": [
    {
     "data": {
      "image/png": "[encoded data removed]",
      "text/plain": [
       "<Figure size 576x360 with 1 Axes>"
      ]
     },
     "metadata": {
      "needs_background": "light"
     },
     "output_type": "display_data"
    }
   ],
   "source": [
    "# Análise da variância de acordo com o número de componentes\n",
    "pca = PCA().fit(X)\n",
    "plt.figure(figsize=(8,5))\n",
    "ncomp = np.arange(1, np.shape(X)[1]+1)\n",
    "# mostra a variância acumulada\n",
    "plt.plot(ncomp, np.cumsum(pca.explained_variance_ratio_), 'ro-')\n",
    "plt.xlabel('number of components', fontsize=20)\n",
    "plt.ylabel('cumulative explained variance', fontsize=20);\n",
    "plt.xticks(color='k', size=20)\n",
    "plt.yticks(color='k', size=20)\n",
    "plt.grid(True)\n",
    "plt.show(True)"
   ]
  }
 ],
 "metadata": {
  "kernelspec": {
   "display_name": "Python 3",
   "language": "python",
   "name": "python3"
  },
  "language_info": {
   "codemirror_mode": {
    "name": "ipython",
    "version": 3
   },
   "file_extension": ".py",
   "mimetype": "text/x-python",
   "name": "python",
   "nbconvert_exporter": "python",
   "pygments_lexer": "ipython3",
   "version": "3.8.10"
  }
 },
 "nbformat": 4,
 "nbformat_minor": 5
}
